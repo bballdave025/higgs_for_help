{
 "cells": [
  {
   "cell_type": "markdown",
   "id": "71d37c59",
   "metadata": {},
   "source": [
    "# Higgs Boson Discovery\n",
    "\n",
    "## Problems with finding the invariant mass\n",
    "\n",
    "You're probably coming here from the Physics StackOverflow question. I decided to add my own spin to some Higgs analysis, and ran into a little trouble. I am trying to get the invariant mass for each electron in the 2011 4e data, first making the attempt with one electron. My invariant masses are about 10 GeV away from the expected value of 0.0005 GeV."
   ]
  },
  {
   "cell_type": "markdown",
   "id": "e6cd1bd5",
   "metadata": {},
   "source": [
    "### Part of the original description of the visualization\n",
    "\n",
    "This is supposed to be a nice visualization to take me back to grad school - where I worked at [BNL](https://www.bnl.gov) / [RHIC](https://www.bnl.gov/rhic/) / [PHENIX](https://www.phenix.bnl.gov/) ([archived](https://web.archive.org/web/20230314100142/https://www.bnl.gov/world/) / [archived](https://web.archive.org/web/20230312202521/https://www.bnl.gov/rhic/) / [archived](https://web.archive.org/web/20230314191656/https://www.phenix.bnl.gov/)) which basically means I worked at a government particle accelerator. I wasn't at [CERN](https://home.cern/) / [LHC]() / [CMS](https://home.cern/science/experiments/cms) ([archived](https://web.archive.org/web/20230314192144/https://home.cern/) / [archived]() / [archived](https://web.archive.org/web/20230314192110/https://home.cern/science/experiments/cms)), which is one of the experiments contributing to the discovery of the Higgs boson and the provider of the data I'll be using. I did participate in _some_ collaboration with LHC groups. I was even invited to the [4<super>th</super> of July Discovery Announcement](https://en.wikipedia.org/wiki/Higgs_boson#Search_before_4_July_2012) ([archived](https://web.archive.org/web/20230314192829/https://en.wikipedia.org/wiki/Higgs_boson)), but I got my keys locked in my car while hanging out with friends halfway to Columbia University. (I think reality makes for a better story - we got in my car using tree branches, but it was long past the midnight announcement time.)\n",
    "\n",
    "The results (when I accomplish my goal) should look something like what follows. The image comes from https://arxiv.org/format/1207.7235, the discovery paper for the Higgs.\n",
    "\n",
    "<br/>\n",
    "<div>\n",
    "  <img src=\"./publication_4lepton_spectrum.png\"\n",
    "       alt=\"Publication histogram - our goal for the analysis is to be similar to this\"\n",
    "       width=\"400px\">\n",
    "</div>\n",
    "<br/>"
   ]
  },
  {
   "cell_type": "markdown",
   "id": "7f07daf7",
   "metadata": {},
   "source": [
    "## Setup\n",
    "\n",
    "Using `conda` for environment setup. This time, because of computer availability, I did it on the Windows CMD prompt (`Anaconda Prompt (miniconda3)`, specifically). `Jupyter` makes for simpler visualizations, so here I am."
   ]
  },
  {
   "cell_type": "markdown",
   "id": "5220e973",
   "metadata": {},
   "source": [
    "<hr/>"
   ]
  },
  {
   "cell_type": "markdown",
   "id": "713d786a",
   "metadata": {},
   "source": [
    "### Virtual Environment And Getting From Git\n",
    "\n",
    "If you're seeing the notebook simply displayed on GitHub and want to run it, this part will show you how. Note that you can also just run the commands from a normal command line. For doing the analysis with a Jupyter notebook, do one of the following \n",
    "\n",
    "1) Use MyBinder. (I'm going to try getting it set up with [MyBinder](https://mybinder.org/), but I haven't gotten that to work, yet. I'm pretty sure _you_ can still do it. If you figure it out, let me know.) \n",
    "\n",
    "2) Set up a virtual environment. Make a new folder (directory) for the project and go there.\n",
    "\n",
    "#### Implementation of choice 2 through Python without conda //A//\n",
    "\n",
    "On a normal `Python` setup (this one with Windows)\n",
    "\n",
    "```\n",
    ">mkdir higgs_venv\n",
    ">python -m venv .\\higgs_venv\n",
    ">.\\higgs_venv\\Scripts\\activate\n",
    "(higgs_venv)>\n",
    "```\n",
    "\n",
    "#### Implementation of choice 2 through Python with conda //B//\n",
    "\n",
    "On a `conda` setup (again, for this time, with Windows)\n",
    "\n",
    "```\n",
    "> conda create --name higgs_venv python=3.10\n",
    "> conda activate higgs_venv\n",
    "(higgs_venv)>\n",
    "```\n",
    "\n",
    "#### After either of the previous two ( //A// or //B//)\n",
    "\n",
    "```\n",
    "(higgs_venv)> git clone https://github.com/bballdave025/higgs_for_help.git\n",
    "(higgs_venv)> cd higgs_for_help\n",
    "```"
   ]
  },
  {
   "cell_type": "markdown",
   "id": "b6f3078f",
   "metadata": {},
   "source": [
    "### When are we? (good for experimental notebooks)\n",
    "\n",
    "```\n",
    ">powershell -c (Get-Date -UFormat \"%s_%Y%m%dT%H%M%S%Z00\") -replace '[.][0-9]{5}_', '_'\n",
    "1678797612_20230314T124012-0600\n",
    "\n",
    ">::  Gosh, event that little extra makes me miss bash\n",
    "```"
   ]
  },
  {
   "cell_type": "markdown",
   "id": "a5b2d9a5",
   "metadata": {},
   "source": [
    "<hr/>"
   ]
  },
  {
   "cell_type": "markdown",
   "id": "5f198b7f",
   "metadata": {},
   "source": [
    "### Environment stuff, pip installs, and maybe on to Jupyter \n",
    "\n",
    "Note that this needs to be done whether we're using Jupyter or not. If we're using Jupyter, you _must_ do this before starting the Jupyter server.\n",
    "\n",
    "```\n",
    "::  These next two commands can be done if you are trying \n",
    "::+ this on the command line, rather than from Jupyter\n",
    "::+ or if you simply didn't do it earlier.\n",
    ">conda create --name higgs_venv python=3.10\n",
    ">conda activate higgs_venv\n",
    "(higgs_venv)>\n",
    "::  Do the following no matter what. This will need to be out on\n",
    "::+ the command prompt in the `higgs_venv` environment.\n",
    "(higgs_venv)>python -m pip install --upgrade pip\n",
    "(higgs_venv)>pip install numpy\n",
    "(higgs_venv)>pip install pandas\n",
    "(higgs_venv)>pip install matplotlib\n",
    "(higgs_venv)>pip install requests\n",
    "(higgs_venv)>pip install pathlib\n",
    "```"
   ]
  },
  {
   "cell_type": "markdown",
   "id": "799e1d82",
   "metadata": {},
   "source": [
    "If you want to launch the Jupyter notebook from your own machine, also do the following from the command prompt.\n",
    "\n",
    "**VERY IMPORTANT IF YOU'RE RUNNING THIS ON YOUR OWN MACHINE WITH JUPYTER**\n",
    "\n",
    "```\n",
    "(higgs_venv)>pip install jupyter\n",
    "(higgs_venv)>jupyter notebook Higgs_Boson_Discovery_Visualization_Questions_for_Help.ipynb\n",
    "```\n",
    "\n",
    "That should take you to your browser, where you'll see the notebook ... and be able to interact with it."
   ]
  },
  {
   "cell_type": "markdown",
   "id": "b8e46932",
   "metadata": {},
   "source": [
    "Now, we can do our initial imports and image-dispay setup. "
   ]
  },
  {
   "cell_type": "markdown",
   "id": "8c93504d",
   "metadata": {},
   "source": [
    "### Imports and other setup"
   ]
  },
  {
   "cell_type": "code",
   "execution_count": 1,
   "id": "6b9a0b9b",
   "metadata": {},
   "outputs": [],
   "source": [
    "import numpy  as np\n",
    "import pandas as pd\n",
    "from matplotlib import pyplot as plt\n",
    "\n",
    "## Next line only for Jupyter notebook.\n",
    "%matplotlib inline"
   ]
  },
  {
   "cell_type": "markdown",
   "id": "0eebd61a",
   "metadata": {},
   "source": [
    "## Some Info (Physics)\n",
    "\n",
    "Let's talk a little about the physics of the data we'll be looking at. You may know that Uranium can decay into lighter elements, as long as the combined mass-energy of the daughters (lighter elements' atoms, energy) is the same as the combined mass-energy - usually just the original mass - of the original Uranium.\n",
    "\n",
    "The same happens for particles. The Higgs boson can decay into lighter particles and energy as long as its daughter decay particles and the energy is equal to the original mass-energy of the Higgs. One way that physics allows this to happen is for the Higgs to decay into four $\\ell$eptons. (I use the script '$\\ell$' to avoid confusion between '1' and 'l'.)\n",
    "\n",
    "Here is a way physicists represent such a decay, which has the problems noted on the image.\n",
    "\n",
    "<br/>\n",
    "<div>\n",
    "  <img src=\"./four_leptons_description_01.png\"\n",
    "       alt=\"Born (basically Feynman) diagrams for the two possible Higgs to four electrons scenario.\"\n",
    "       width=75%>\n",
    "</div>\n",
    "<br/>\n",
    "\n",
    "In case you're curious, I'll tell you that the the $Z^{(*)}$ lines are for off-mass-shell (also called off-shell or virtual) Z-bosons. You can look up details if you'd like. Actually, to be technically correct, the Higgs boson should be off-shell (virtual), too, and we should see it labeled $H^{(*)}$. Just for fun, I'll put in this image from the [Wikipedia article on the Higgs boson](https://en.wikipedia.org/wiki/Higgs_boson#Discovery_of_candidate_boson_at_CERN) ([archived](https://web.archive.org/web/20230314192829/https://en.wikipedia.org/wiki/Higgs_boson)). It should show up even if changes are made to the wiki article and or the image, because I'm using an [archived image](https://web.archive.org/web/20230314233304/https://en.wikipedia.org/wiki/File:4-lepton_Higgs_decay.svg). This diagram doesn't show whether something is off-shell/virtual with the $^{(*)}$, because one learns that anything in the middle of such a diagram is virtual/off-shell. Also, this next diagram shows only part of the interaction - the two protons have six valence quarks and gluons holding them together. At our collision energy, you would expect to find a lot of gluons.\n",
    "\n",
    "<br/>\n",
    "<div>\n",
    "  <img src=\"https://web.archive.org/web/20230314233304/https://upload.wikimedia.org/wikipedia/commons/thumb/b/b2/4-lepton_Higgs_decay.svg/320px-4-lepton_Higgs_decay.svg.png\"\n",
    "       alt=\"Both sides of the diagram for Higgs to four leptons\"\n",
    "       width=\"480px\">\n",
    "</div>\n",
    "<br/>\n",
    "\n",
    "That represents to protons coming in and four leptons coming out.\n",
    "\n",
    "### Three decay possibilites\n",
    "\n",
    "In the first image, I said that we could simplify things while including more leptons than the electron. Let's use these symbols,\n",
    "\n",
    "<br/>\n",
    "<div>\n",
    "  <img src=\"./four_leptons_description_02.png\"\n",
    "       alt=\"Symbols for electron, positron (positive version of the electron), muon, and antimuon (positive version of the muon)\"\n",
    "       width=300px>\n",
    "</div>\n",
    "<br/>\n",
    "\n",
    "and give the three possibilites. We'll see these possibilities in the names of the `CSV` files.\n",
    "\n",
    "**Possibility 1: ... $H^{(*)} \\rightarrow \\{ 2 Z^{(*)} \\} \\rightarrow \\{ 4e \\}$**<br/>\n",
    "**Higgs to 4 electrons (via two Z bosons and after previous interactions)**\n",
    "\n",
    "<br/>\n",
    "<div>\n",
    "  <img src=\"./decay_four_leptons_four_electrons.png\"\n",
    "       alt=\"Off-mass-shell (virtual) Higgs to two off-mass-shell (virtual) Z bosons to four electrons\"\n",
    "       width=300px>\n",
    "</div>\n",
    "<br/>\n",
    "\n",
    "**Possibility 2: ... $H^{(*)} \\rightarrow \\{ 2 Z^{(*)} \\} \\rightarrow \\{ 4\\mu \\}$**<br/>\n",
    "**Higgs to four muons (via two Z bosons and after previous interactions)**\n",
    "\n",
    "<br/>\n",
    "<div>\n",
    "  <img src=\"./decay_four_leptons_four_muons.png\"\n",
    "       alt=\"Off-mass-shell (virtual) Higgs to two off-mass-shell (virtual) Z bosons to four muons\"\n",
    "       width=300px>\n",
    "</div>\n",
    "<br/>\n",
    "\n",
    "**Possibility 3: ... $H^{(*)} \\rightarrow \\{ 2 Z^{(*)} \\} \\rightarrow \\{ 2e, 2\\mu \\}$**<br/>\n",
    "**Higgs to 2 electrons and 2 muons (via two Z bosons and after previous interactions)**\n",
    "\n",
    "<br/>\n",
    "<div>\n",
    "  <img src=\"./decay_four_leptons_two_electrons_two_muons.png\"\n",
    "       alt=\"Off-mass-shell (virtual) Higgs to two off-mass-shell (virtual) Z bosons to two electrons and two muons\"\n",
    "       width=300px>\n",
    "</div>\n",
    "<br/>\n",
    "\n",
    "<hr/>"
   ]
  },
  {
   "cell_type": "markdown",
   "id": "a6191c7e",
   "metadata": {},
   "source": [
    "## Starting The Analysis\n",
    "\n",
    "### URLs"
   ]
  },
  {
   "cell_type": "code",
   "execution_count": 2,
   "id": "1542ab15",
   "metadata": {},
   "outputs": [],
   "source": [
    "data_csv_urls = []\n",
    "\n",
    "# 4 electrons as daughter particles (two years' data)\n",
    "url_4e_2011 = 'http://opendata.cern.ch/record/5200/files/4e_2011.csv'\n",
    "data_csv_urls.append(url_4e_2011)\n",
    "url_4e_2012 = 'http://opendata.cern.ch/record/5200/files/4e_2012.csv'\n",
    "data_csv_urls.append(url_4e_2012)\n",
    "\n",
    "# 4 muons as daughter particles (two years' data)\n",
    "url_4mu_2011 = 'http://opendata.cern.ch/record/5200/files/4mu_2011.csv'\n",
    "data_csv_urls.append(url_4mu_2011)\n",
    "url_4mu_2012 = 'http://opendata.cern.ch/record/5200/files/4mu_2012.csv'\n",
    "data_csv_urls.append(url_4mu_2012)\n",
    "\n",
    "# 2 electrons and 2 muons as daughter particles (two years' data)\n",
    "url_2e2mu_2011 = 'http://opendata.cern.ch/record/5200/files/2e2mu_2011.csv'\n",
    "data_csv_urls.append(url_2e2mu_2011)\n",
    "url_2e2mu_2012 = 'http://opendata.cern.ch/record/5200/files/2e2mu_2012.csv'\n",
    "data_csv_urls.append(url_2e2mu_2012)"
   ]
  },
  {
   "cell_type": "markdown",
   "id": "36fb3bdc",
   "metadata": {},
   "source": [
    "### Download using requests and shutil then reading in with pandas"
   ]
  },
  {
   "cell_type": "markdown",
   "id": "f4cab7f9",
   "metadata": {},
   "source": [
    "#### Looking at one file"
   ]
  },
  {
   "cell_type": "code",
   "execution_count": 3,
   "id": "8f00f547",
   "metadata": {},
   "outputs": [],
   "source": [
    "##  Before I loop through all of the events and particles, I'll just \n",
    "##+ load in the first one. That way, we can look more of the physics\n",
    "\n",
    "##########################################\n",
    "##  A peek at the data for 4e from 2011 ##\n",
    "##+ Side scrolling will be necessary    ##\n",
    "##########################################\n",
    "\n",
    "import requests\n",
    "import shutil\n",
    "from pathlib import Path\n",
    "\n",
    "my_url = 'http://opendata.cern.ch/record/5200/files/4e_2011.csv'\n",
    "local_filename = my_url.split('/')[-1]\n",
    "\n",
    "with requests.get(my_url, stream=True) as r:\n",
    "    r.raise_for_status()\n",
    "    with open(local_filename, 'wb') as f:\n",
    "        shutil.copyfileobj(r.raw, f)\n",
    "    ##endof:  with open ... as f\n",
    "##endof:  with requests ... as r\n",
    "\n",
    "our_file = Path(local_filename)\n",
    "we_have_our_file = ( our_file.is_file() )\n",
    "\n",
    "assert(we_have_our_file)"
   ]
  },
  {
   "cell_type": "markdown",
   "id": "ff4b0174",
   "metadata": {},
   "source": [
    "No AssertionError! Hooray! We have our file!\n",
    "\n",
    "I want to see if the file size was causing the timeout, or if it was (the most likely explanation) something with my local gateway.\n",
    "\n",
    "For a discussion of the fastest and most-memory-friendly way to count lines in a file (especially big files), see [this note](#Line-Count-Discussion) near the end of the notebook.\n",
    "\n",
    "##### Line-count functions"
   ]
  },
  {
   "cell_type": "code",
   "execution_count": 4,
   "id": "a62a5bb5",
   "metadata": {},
   "outputs": [],
   "source": [
    "def _make_count_generator(reader):\n",
    "    b = reader(1024 * 1024)\n",
    "    while b:\n",
    "        yield b\n",
    "        b = reader(1024*1024)\n",
    "    ##endof:  while b\n",
    "##endof:  def _make_count_generator(reader)\n",
    "\n",
    "\n",
    "#  DWB note: 20230316T164800-0600\n",
    "#+ I don't know what will happen with an empty file\n",
    "def raw_generator_line_count(filename):\n",
    "    with open(filename, 'rb') as fp:\n",
    "        my_generator = _make_count_generator(fp.raw.read)\n",
    "        count = sum(buffer.count(b'\\n') for buffer in my_generator)\n",
    "    ##endof:  with open ... fp\n",
    "    \n",
    "    return count + 1\n",
    "    \n",
    "##endof:  def raw_generator_line_count(filename)"
   ]
  },
  {
   "cell_type": "markdown",
   "id": "0126f26f",
   "metadata": {},
   "source": [
    "##### Line count for file"
   ]
  },
  {
   "cell_type": "code",
   "execution_count": 5,
   "id": "06d05ece",
   "metadata": {},
   "outputs": [
    {
     "name": "stdout",
     "output_type": "stream",
     "text": [
      "\n",
      "File: 4e_2011.csv\n",
      "has 9 lines.\n"
     ]
    }
   ],
   "source": [
    "n_lines = raw_generator_line_count(local_filename)\n",
    "print(\"\\nFile: \" + str(local_filename) + \"\\nhas \" + str(n_lines) + \" lines.\")"
   ]
  },
  {
   "cell_type": "markdown",
   "id": "b6562df9",
   "metadata": {},
   "source": [
    "Well, that was anticlimactic. The output was\n",
    "\n",
    "```\n",
    "File: 4e_2011.csv\n",
    "has 9 lines.\n",
    "```"
   ]
  },
  {
   "cell_type": "markdown",
   "id": "28154973",
   "metadata": {},
   "source": [
    "#### Let's have some physics fun with the first batch of data\n",
    "\n",
    "After all, we can visualize it all. As I was saying, some side scrolling will be needed, so we need to change some `pandas` stuff."
   ]
  },
  {
   "cell_type": "code",
   "execution_count": 6,
   "id": "e246fb5c",
   "metadata": {},
   "outputs": [
    {
     "name": "stdout",
     "output_type": "stream",
     "text": [
      "                 Run         Event       PID1          E1        px1  \\\n",
      "count       7.000000  7.000000e+00   7.000000    7.000000   7.000000   \n",
      "mean   169313.142857  3.351673e+08   1.571429  132.185000 -21.429387   \n",
      "std      4273.231620  3.750184e+08  11.759495  113.218065  34.336417   \n",
      "min    163659.000000  1.034711e+07 -11.000000   46.296700 -58.328400   \n",
      "25%    165716.500000  6.511811e+07 -11.000000   55.682150 -47.917400   \n",
      "50%    171106.000000  1.419548e+08  11.000000   87.628000 -19.222600   \n",
      "75%    172875.500000  5.934871e+08  11.000000  163.954500  -9.188755   \n",
      "max    173243.000000  8.766590e+08  11.000000  352.097000  41.757600   \n",
      "\n",
      "              py1         pz1         pt1      eta1      phi1        Q1  \\\n",
      "count    7.000000    7.000000    7.000000  7.000000  7.000000  7.000000   \n",
      "mean    23.073559   81.730426   55.990400  0.632904 -0.411380 -0.142857   \n",
      "std     45.076298  145.060001   26.652413  1.347241  2.429490  1.069045   \n",
      "min    -15.448800  -76.166700   32.073500 -1.329820 -2.989660 -1.000000   \n",
      "25%     -8.770395  -10.981260   44.237600 -0.235517 -2.899205 -1.000000   \n",
      "50%     11.559100   32.100200   46.280100  0.576831  0.270053 -1.000000   \n",
      "75%     34.959200  145.512500   55.843500  1.591035  1.712450  1.000000   \n",
      "max    113.027000  347.117000  113.417000  2.472280  2.213460  1.000000   \n",
      "\n",
      "            PID2          E2        px2        py2         pz2        pt2  \\\n",
      "count   7.000000    7.000000   7.000000   7.000000    7.000000   7.000000   \n",
      "mean    4.714286   63.620757  25.288211 -14.758808   10.534498  48.446571   \n",
      "std    10.734901   35.547574  27.233234  39.221809   50.755930  23.279885   \n",
      "min   -11.000000   26.686300 -20.510500 -95.389400  -54.669200  24.078400   \n",
      "25%     0.000000   41.119150   8.110640 -19.495600  -10.573050  36.659550   \n",
      "50%    11.000000   45.856800  40.661400  -7.347430    7.506290  43.673200   \n",
      "75%    11.000000   83.171950  42.378550   6.865888   15.678250  51.108150   \n",
      "max    11.000000  124.220000  55.888200  24.684600  110.694000  95.839000   \n",
      "\n",
      "           eta2      phi2        Q2  PID3          E3        px3        py3  \\\n",
      "count  7.000000  7.000000  7.000000   7.0    7.000000   7.000000   7.000000   \n",
      "mean   0.079503 -0.098396 -0.428571 -11.0   48.161214  -5.150364   0.933934   \n",
      "std    0.798752  1.233061  0.975900   0.0   55.406734  19.063773  25.749589   \n",
      "min   -1.094270 -1.473900 -1.000000 -11.0   10.166300 -39.950700 -39.762700   \n",
      "25%   -0.307269 -0.825790 -1.000000 -11.0   19.066900 -10.303510 -14.509735   \n",
      "50%    0.171039 -0.130717 -1.000000 -11.0   27.256100  -0.600474   6.409370   \n",
      "75%    0.333493  0.151661  0.000000 -11.0   46.094650   1.050672  17.850820   \n",
      "max    1.427300  2.264100  1.000000 -11.0  169.383000  23.004300  33.208700   \n",
      "\n",
      "              pz3        pt3      eta3      phi3   Q3       PID4         E4  \\\n",
      "count    7.000000   7.000000  7.000000  7.000000  7.0   7.000000   7.000000   \n",
      "mean    30.755871  27.238094  0.406535  0.395111  1.0   4.714286  25.901444   \n",
      "std     60.116408  13.887762  0.879695  2.064835  0.0  10.734901  15.020856   \n",
      "min     -6.323150   9.442200 -0.627642 -2.178500  1.0 -11.000000   7.571910   \n",
      "25%      0.453575  16.798980 -0.085463 -1.455255  1.0   0.000000  15.170250   \n",
      "50%     13.016400  26.453500  0.377676  0.964974  1.0  11.000000  26.682200   \n",
      "75%     21.597850  40.082750  0.577324  1.987865  1.0  11.000000  32.677700   \n",
      "max    164.495000  41.007500  2.111990  2.914080  1.0  11.000000  51.360100   \n",
      "\n",
      "             px4        py4        pz4        pt4      eta4      phi4  \\\n",
      "count   7.000000   7.000000   7.000000   7.000000  7.000000  7.000000   \n",
      "mean   -0.656836  -5.667795  -7.486794  19.997374 -0.197793  0.763278   \n",
      "std    21.407904  13.017569  16.649176  14.113508  0.950710  1.957460   \n",
      "min   -36.407800 -25.118200 -32.070900   7.281400 -1.741270 -1.583930   \n",
      "25%    -6.839200 -14.973370 -18.589650   8.198510 -0.589573 -0.916850   \n",
      "50%    -0.091305   0.928434  -2.835530  13.598800 -0.281549  0.995867   \n",
      "75%     5.660225   3.590555   3.864385  31.294050  0.357588  2.324305   \n",
      "max    34.259200   7.280830  11.949400  40.116300  1.102240  3.116100   \n",
      "\n",
      "             Q4        mZ1        mZ2           M  \n",
      "count  7.000000   7.000000   7.000000    7.000000  \n",
      "mean  -0.428571  85.417686  51.252386  185.211843  \n",
      "std    0.975900  10.873366  34.246299  102.381938  \n",
      "min   -1.000000  68.635200  20.094500   95.425900  \n",
      "25%   -1.000000  80.860350  23.795750  113.225500  \n",
      "50%   -1.000000  91.417800  28.451700  138.193000  \n",
      "75%    0.000000  91.737750  84.816900  236.437500  \n",
      "max    1.000000  92.674600  92.995200  363.538000  \n"
     ]
    }
   ],
   "source": [
    "pd.options.display.max_columns = 50\n",
    "\n",
    "# Get our dataframe\n",
    "my_4e2011_df = pd.read_csv(local_filename)\n",
    "\n",
    "#my_4e2011_df.describe(include=\"all\") #  That will give you a scrollable,\n",
    "                                      #+ HTML-type table\n",
    "\n",
    "print(my_4e2011_df.describe(include=\"all\")) # Just plain-text output"
   ]
  },
  {
   "cell_type": "markdown",
   "id": "27686412",
   "metadata": {},
   "source": [
    "That might be more information than we get by looking at the whole dataset with `head`."
   ]
  },
  {
   "cell_type": "code",
   "execution_count": 7,
   "id": "8ba0a031",
   "metadata": {},
   "outputs": [
    {
     "name": "stdout",
     "output_type": "stream",
     "text": [
      "      Run      Event  PID1        E1       px1        py1        pz1  \\\n",
      "0  167675  876658967   -11   46.2967 -45.47210   -8.61010   -1.24072   \n",
      "1  173243   16706390    11  352.0970 -58.32840   -8.93069  347.11700   \n",
      "2  171106  141954801    11   49.6757  -8.98850   44.24350  -20.72180   \n",
      "3  163758  113529826   -11  112.0390 -19.22260   25.67490  107.35000   \n",
      "4  172952  842265702   -11   87.6280  41.75760   11.55910  -76.16670   \n",
      "5  163659  344708580    11   61.6886 -50.36270  -15.44880   32.10020   \n",
      "6  172799   10347106    11  215.8700  -9.38901  113.02700  183.67500   \n",
      "\n",
      "        pt1      eta1      phi1  Q1  PID2        E2       px2        py2  \\\n",
      "0   46.2801 -0.026806 -2.954460   1    11   45.8568  43.53670  14.370800   \n",
      "1   59.0081  2.472280 -2.989660  -1   -11  124.2200  55.88820  -7.347430   \n",
      "2   45.1473 -0.444228  1.771230  -1    11   68.4708  41.22040  -0.639024   \n",
      "3   32.0735  1.922810  2.213460   1    11   26.6863   6.94914 -23.053800   \n",
      "4   43.3279 -1.329820  0.270053   1    11   37.9247 -20.51050  24.684600   \n",
      "5   52.6789  0.576831 -2.843950  -1   -11   44.3136  40.66140 -15.937400   \n",
      "6  113.4170  1.259260  1.653670  -1    11   97.8731   9.27214 -95.389400   \n",
      "\n",
      "          pz2      pt2      eta2      phi2  Q2  PID3        E3        px3  \\\n",
      "0   -0.940301  45.8472 -0.020508  0.318824  -1   -11   27.2561 -13.673400   \n",
      "1  110.694000  56.3691  1.427300 -0.130717   1   -11  169.3830  23.004300   \n",
      "2  -54.669200  41.2253 -1.094270 -0.015501  -1   -11   42.6373  -0.600474   \n",
      "3   11.506000  24.0784  0.461317 -1.278030  -1   -11   10.1663   2.352000   \n",
      "4  -20.205800  32.0938 -0.594030  2.264100  -1   -11   11.3639  -6.933620   \n",
      "5    7.506290  43.6732  0.171039 -0.373550   1   -11   26.7699  -0.250656   \n",
      "6   19.850500  95.8390  0.205670 -1.473900  -1   -11   49.5520 -39.950700   \n",
      "\n",
      "        py3        pz3       pt3      eta3      phi3  Q3  PID4        E4  \\\n",
      "0 -19.65970   13.01640  23.94720  0.519816 -2.178500   1    11   7.57191   \n",
      "1  33.20870  164.49500  40.39820  2.111990  0.964974   1    11  28.82550   \n",
      "2 -39.76270   15.37870  39.76730  0.377676 -1.585900   1   -11  36.52990   \n",
      "3  -9.35977   -3.19643   9.65076 -0.325435 -1.324610   1    11  12.23760   \n",
      "4   6.40937   -6.32315   9.44220 -0.627642  2.395460   1    11  26.68220   \n",
      "5  26.45230    4.10358  26.45350  0.154509  1.580270   1    11  18.10290   \n",
      "6   9.24934   27.81700  41.00750  0.634832  2.914080   1   -11  51.36010   \n",
      "\n",
      "         px4        py4       pz4       pt4      eta4      phi4  Q4      mZ1  \\\n",
      "0  -0.091305   7.280830  -2.07727   7.28140 -0.281549  1.583340  -1  91.9271   \n",
      "1   7.339310 -25.118200 -12.08810  26.16850 -0.446908 -1.286520  -1  91.4178   \n",
      "2 -36.407800   0.928434  -2.83553  36.41960 -0.077779  3.116100   1  91.5484   \n",
      "3   3.981140   6.144260   9.80604   7.32130  1.102240  0.995867  -1  70.4304   \n",
      "4  -0.119199  -9.074940 -25.09120   9.07572 -1.741270 -1.583930  -1  68.6352   \n",
      "5 -13.559200   1.036850  11.94940  13.59880  0.792955  3.065270  -1  92.6746   \n",
      "6  34.259200 -20.871800 -32.07090  40.11630 -0.732237 -0.547180   1  91.2903   \n",
      "\n",
      "       mZ2         M  \n",
      "0  27.3974  125.5280  \n",
      "1  92.9952  285.9600  \n",
      "2  87.7217  186.9150  \n",
      "3  20.1941  100.9230  \n",
      "4  20.0945   95.4259  \n",
      "5  28.4517  138.1930  \n",
      "6  81.9121  363.5380  \n"
     ]
    }
   ],
   "source": [
    "#out-for-now#my_4e2011_df.head(10) #  That will give you a scrollable,\n",
    "                                   #+ HTML-type table\n",
    "\n",
    "print(my_4e2011_df.head(10)) #  Just plain-text output, there are less\n",
    "                             #+ than ten events, so we will see all of\n",
    "                             #+ the data"
   ]
  },
  {
   "cell_type": "markdown",
   "id": "fa36886f",
   "metadata": {},
   "source": [
    "<hr/>"
   ]
  },
  {
   "cell_type": "markdown",
   "id": "3b26c632",
   "metadata": {},
   "source": [
    "In particle physics, we have something called the [invariant mass](https://en.wikipedia.org/wiki/Invariant_mass) ([archived](https://web.archive.org/web/20230313220738/https://en.wikipedia.org/wiki/Invariant_mass)). The invariant mass in such a collision - when talking about daughter particles - is the mass of the particle that decayed. It's the big '`M`' in the last column. (If you don't understand that, don't worry - just forget I said anything.)\n",
    "\n",
    "There are a lot of different masses in that last column. Consider that an electron has a mass of about $0.5 MeV/c^2$, which is the same as $0.0005 GeV/c^2$. (We'll get back to that) \n",
    "\n",
    "***&lt;part-you-can-skip&gt;***<br/>\n",
    "Particle physicists, again with our own quirky little ways, use a system called [natural units](https://en.wikipedia.org/wiki/Natural_units#Natural_units_(particle_and_atomic_physics)) ([archived](https://web.archive.org/web/20230316232513/https://en.wikipedia.org/wiki/Natural_units)). Some will say that this allows us to write $c$ (the speed of light) as $1$. That's oversimplifying it (it's more like making the physical-constant coefficients equal to $1$, in this case by making the length unit the same as the time unit ... -ish). Let's just say it lets us get away with writing equations and measurements without including the defining constants, which include $c$. If you want to know more, you can also look up [nondimensionalization](https://en.wikipedia.org/wiki/Nondimensionalization) ([archived](https://web.archive.org/web/20230316040337/https://en.wikipedia.org/wiki/Nondimensionalization))); I'm guessing you probably _don't_ want to know more, or even as much as I've said.<br/>\n",
    "***&lt;/part-you-can-skip&gt;***\n",
    "\n",
    "All of that to say that we can approximate the masses of the electron and the Higgs as \n",
    "\n",
    "`{mass_electron, mass_higgs} = {0.5 MeV, 126000 MeV} = {0.0005 GeV, 126 GeV}`\n",
    "\n",
    "Any way you look at it, that Higgs is a _lot_ more massive than four electrons. Where does the extra mass go? Well, some of the mass gets converted into energy (remember $E = m c^2$), a lot of it being energy of motion. \n",
    "\n",
    "The general formula for invariant mass, $m_0$, for one particle in this case, is\n",
    "\n",
    "$m_0 = \\sqrt{E^2 - \\lvert \\textbf{p} \\rvert^2}$\n",
    "\n",
    "Note that this is in natural units. The value of $c$ can be considered as $1$ (in speed-of-light units)."
   ]
  },
  {
   "cell_type": "markdown",
   "id": "03f5acfc",
   "metadata": {},
   "source": [
    "<hr/>"
   ]
  },
  {
   "cell_type": "markdown",
   "id": "7520937c",
   "metadata": {},
   "source": [
    "Let's look at the mass issue in two ways, both using the invariant mass. \n",
    "\n",
    "First, I've tried looking at each electron's invariant mass. I've had some problems with that, and things don't match. I'll be taking the question to the Physics StackExchange site. \n",
    "\n",
    "As somewhat of a sanity check, I'll find the invariant mass of the particle that decayed into four leptons (four electrons in the case we're doing). \n",
    "\n",
    "We'll take a look at one event to check things out.\n",
    "\n",
    "Here's some code to let you see the info we get from one event - basically the headers and the values for the first event."
   ]
  },
  {
   "cell_type": "code",
   "execution_count": 8,
   "id": "afa1da59",
   "metadata": {},
   "outputs": [],
   "source": [
    "## Adding 2023-03-16\n",
    "import re\n",
    "\n",
    "table_of_tables = []\n",
    "current_table = []\n",
    "is_a_new_table = True\n",
    "is_the_first_element = True\n",
    "\n",
    "for my_header in my_4e2011_df.columns.values.tolist():\n",
    "    if ( re.match(r\"PID\\d+\", my_header) or\n",
    "         re.match(r\"mZ1\", my_header) or\n",
    "         re.match(r\"M\", my_header)):\n",
    "        is_a_new_table = True\n",
    "    ##endof:  if <and all the re.match>\n",
    "    \n",
    "    if is_a_new_table:\n",
    "        if not is_the_first_element:\n",
    "            table_of_tables.append(current_table)\n",
    "        else:\n",
    "            is_the_first_element = False\n",
    "        ##endof:  if/else is_not_the_first_element\n",
    "        \n",
    "        current_table = [my_header]\n",
    "        is_a_new_table = False\n",
    "        \n",
    "    else:\n",
    "        current_table.append(my_header)\n",
    "    ##endof:  if/else is_a_new_table\n",
    "    \n",
    "##endof:  for my_header in my_4e2011_df.columns.values.tolist()\n",
    "\n",
    "table_of_tables.append(current_table)"
   ]
  },
  {
   "cell_type": "code",
   "execution_count": 9,
   "id": "9dd4beb7",
   "metadata": {},
   "outputs": [
    {
     "name": "stdout",
     "output_type": "stream",
     "text": [
      "[['Run', 'Event'],\n",
      " ['PID1', 'E1', 'px1', 'py1', 'pz1', 'pt1', 'eta1', 'phi1', 'Q1'],\n",
      " ['PID2', 'E2', 'px2', 'py2', 'pz2', 'pt2', 'eta2', 'phi2', 'Q2'],\n",
      " ['PID3', 'E3', 'px3', 'py3', 'pz3', 'pt3', 'eta3', 'phi3', 'Q3'],\n",
      " ['PID4', 'E4', 'px4', 'py4', 'pz4', 'pt4', 'eta4', 'phi4', 'Q4'],\n",
      " ['mZ1', 'mZ2'],\n",
      " ['M']]\n"
     ]
    }
   ],
   "source": [
    "import pprint\n",
    "\n",
    "pprint.pprint(table_of_tables)"
   ]
  },
  {
   "cell_type": "markdown",
   "id": "96eb1b9e",
   "metadata": {},
   "source": [
    "The output was\n",
    "\n",
    "```\n",
    "[['Run', 'Event'],\n",
    " ['PID1', 'E1', 'px1', 'py1', 'pz1', 'pt1', 'eta1', 'phi1', 'Q1'],\n",
    " ['PID2', 'E2', 'px2', 'py2', 'pz2', 'pt2', 'eta2', 'phi2', 'Q2'],\n",
    " ['PID3', 'E3', 'px3', 'py3', 'pz3', 'pt3', 'eta3', 'phi3', 'Q3'],\n",
    " ['PID4', 'E4', 'px4', 'py4', 'pz4', 'pt4', 'eta4', 'phi4', 'Q4'],\n",
    " ['mZ1', 'mZ2'],\n",
    " ['M']]\n",
    "```\n",
    "\n",
    "Note that we can use `my_4e2011_df.info()` to get even more info about these (not about their physics, but about the data types, count, etc. I've done that in a [note near the end](#More-Dataframe-Info)."
   ]
  },
  {
   "cell_type": "markdown",
   "id": "cc765cd1",
   "metadata": {},
   "source": [
    "<hr/> <hr/>"
   ]
  },
  {
   "cell_type": "markdown",
   "id": "e3497e1a",
   "metadata": {},
   "source": [
    "### One daughter particle"
   ]
  },
  {
   "cell_type": "markdown",
   "id": "caf3d61d",
   "metadata": {},
   "source": [
    "For our one-particle invariant mass, let's look back to the structure of the data we're inspecting.\n",
    "\n",
    "```\n",
    "[['Run', 'Event'],\n",
    " ['PID1', 'E1', 'px1', 'py1', 'pz1', 'pt1', 'eta1', 'phi1', 'Q1'],\n",
    " ['PID2', 'E2', 'px2', 'py2', 'pz2', 'pt2', 'eta2', 'phi2', 'Q2'],\n",
    " ['PID3', 'E3', 'px3', 'py3', 'pz3', 'pt3', 'eta3', 'phi3', 'Q3'],\n",
    " ['PID4', 'E4', 'px4', 'py4', 'pz4', 'pt4', 'eta4', 'phi4', 'Q4'],\n",
    " ['mZ1', 'mZ2'],\n",
    " ['M']]\n",
    "```\n",
    "\n",
    "It it is now pretty easy to see how we can do $E^2$. For the $\\lvert \\textbf{p} \\rvert^2$, we use a standard vector length formula (Pythagorean theorem). I'm not sure what to do with `ptN`, which I'm pretty sure is transverse momentum. That's basically a different way of measuring and showing the momentum from $x$ and $y$. (If I recall correctly, it's mostly used for minding particles such as neutrinos.) We can use our Pythagorean Theorem for the norm of the momentum vector using $x,y,z$. So, for each particle, (1,2,3,4), for which we have the components of momentum (we'll designate each particle with $N \\in \\{1, 2, 3, 4\\}$)\n",
    "\n",
    "$\\lvert \\textbf{p} \\rvert = \\sqrt{(pxN)^2 + (pyN)^2 + (pzN)^2}$\n",
    "\n",
    "We'll do this with our dataframe, and to be a bit simpler (not as busy on the page), we'll do it one particle at a time. For the first try, we'll do it one event at a time as well."
   ]
  },
  {
   "cell_type": "markdown",
   "id": "1b0d4a02",
   "metadata": {},
   "source": [
    "For one particle, in any frame of reference (ignore that any-frame-of-reference part if it confuses you), the invariant mass is given by\n",
    "\n",
    "$m_0 = \\sqrt{E^2 - \\lvert \\textbf{p} \\rvert^2}$\n",
    "\n",
    "We'll check that each of the electrons has the correct (invariant) mass."
   ]
  },
  {
   "cell_type": "markdown",
   "id": "0a736206",
   "metadata": {},
   "source": [
    "#### Invariant mass for each particle\n",
    "\n",
    "We'll use our equation, rewritten as\n",
    "\n",
    "$m_0 = \\sqrt{E^2 - \\left[(pxN)^2 + (pyN)^2 + (pzN)^2\\right]}$ with $N \\in {1, 2, 3, 4}$\n",
    "\n",
    "Note that this will give us four different $m_0$ values, _NOT_ a sum over $N$."
   ]
  },
  {
   "cell_type": "code",
   "execution_count": 67,
   "id": "798c5e6a",
   "metadata": {},
   "outputs": [],
   "source": [
    "## added 2023-03-17\n",
    "from math import sqrt\n",
    "## added 2023-03-18\n",
    "import sys\n",
    "\n",
    "do_debug = True\n",
    "\n",
    "def invariant_mass_from_values(energy, px, py, pz, \n",
    "                               do_avoid_imaginary=True,\n",
    "                               do_display_invariant_mass=True,\n",
    "                               do_print_if_p2_gt_e2=True):\n",
    "    '''\n",
    "    :brief: Calculates the invariant mass of a particle\n",
    "    \n",
    "    :param energy:  The energy of the particle\n",
    "    :param px:      The x-component of the particle's momentum\n",
    "    :param py:      The y-component of the particle's momentum\n",
    "    :param pz:      The z-component of the particle's momentum\n",
    "    \n",
    "    :returns invariant_mass: The invariant mass (rest mass)\n",
    "    '''\n",
    "    \n",
    "    invariant_mass = None\n",
    "    \n",
    "    #  The values come to us from a pandas dataframe. We need\n",
    "    #+ to cast each into just a float. This function might\n",
    "    #+ only work when we have one row. -DWB 2023-03-18\n",
    "    \n",
    "    energy = float(energy)\n",
    "    px = float(px)\n",
    "    py = float(py)\n",
    "    pz = float(py) #+ seriously, this whole time, \n",
    "                   #  the problem has been `pz = float(py)\n",
    "    \n",
    "    if do_debug:\n",
    "        print(\"\\n##DEBUG 1##\")\n",
    "        print(\"energy: \" + str(energy))\n",
    "        print(\"px: \" + str(px))\n",
    "        print(\"py: \" + str(py))\n",
    "        print(\"pz: \" + str(pz))\n",
    "    ##endof:  if debug\n",
    "    \n",
    "    #  For avoiding imaginary numbers, we're going to use the \n",
    "    #+ following, depending on the sign of E^2 - |p|^2.\n",
    "    #+ Remember that the square root of a negative number\n",
    "    #+ is imaginary. The energy of an e+ (positron) can be\n",
    "    #+ viewed as negative, or imaginary in some cases (?)\n",
    "    #+                PLEASE COMMENT ON THIS, PHYSICS STACKEXCHANGE PEOPLE\n",
    "    #+\n",
    "    #+ so, we will have\n",
    "    #+\n",
    "    #+  (+/-) sqrt( (+/-) (E^2 - |p|^2) )\n",
    "    #+    ^           ^\n",
    "    #+    |           \\\n",
    "    #+                 ---------\n",
    "    #+  Calling this            \\\n",
    "    #+ `total_sign_transform`    \\\n",
    "    #+                           |\n",
    "    #+                 Calling this\n",
    "    #+                 `e2_minus_p2_sign_transform`\n",
    "    \n",
    "    e_squared_part = (energy ** 2)\n",
    "    norm_p_squared_part = ((px ** 2) + (py ** 2) + (pz ** 2))\n",
    "    \n",
    "    if do_debug:\n",
    "        print(\"\\n##DEBUG 2##\")\n",
    "        print(\"e_squared_part: \" + str(e_squared_part))\n",
    "        print(\"norm_p_squared_part: \" + str(norm_p_squared_part))\n",
    "    ##endof:  if do_debug\n",
    "    \n",
    "    #  remember that the time-component of the vector-length\n",
    "    #+ formula has a different sign\n",
    "    e2_minus_p2 = e_squared_part - norm_p_squared_part\n",
    "    \n",
    "    if do_debug:\n",
    "        print(\"\\n##DEBUG 3##\")\n",
    "        print(\"e2_minus_p2: \" + str(e2_minus_p2))\n",
    "    ##endof:  if do_debug\n",
    "    \n",
    "    total_sign_transform = 1       # plus 1 => no change\n",
    "    e2_minus_p2_sign_transform = 1 # plus 1 => no change\n",
    "    \n",
    "    radicand_is_negative = ( e2_minus_p2 < 0 )\n",
    "    \n",
    "    if radicand_is_negative and do_avoid_imaginary:\n",
    "        if do_print_if_p2_gt_e2:\n",
    "            print(\"NOTE: The radicand had a negative value, \" + \\\n",
    "                  \"so we're adjusting signs.\")\n",
    "        ##endof:  if do_print_if_p2_gt_e2\n",
    "        \n",
    "        total_sign_transform = -1\n",
    "        e2_minus_p2_sign_transform = -1\n",
    "    ##endof:  if radicand_is_negative\n",
    "    \n",
    "    try:\n",
    "        new_radicand = e2_minus_p2_sign_transform * e2_minus_p2\n",
    "        invariant_mass = total_sign_transform * sqrt( new_radicand )\n",
    "        invariant_mass = float(invariant_mass)\n",
    "        if do_debug:\n",
    "            print(\"\\n##DEBUG 3##\")\n",
    "            print(\"e2_minus_p2: \" + str(e2_minus_p2))\n",
    "        ##endof:  if do_debug\n",
    "    except Exception as ve:\n",
    "        invariant_mass = \"NaN\"\n",
    "        print(\"\\nYour E^2 - |p|^2 is negative, so taking\", file=sys.stderr)\n",
    "        print(\"its square root will lead to an imaginary\", file=sys.stderr)\n",
    "        print(\"number. Not very physical (in this case,\", file=sys.stderr)\n",
    "        print(\"unless there's something with antiparticles\", \n",
    "              file=sys.stderr)\n",
    "        print(\"or something giving complex values that\", file=sys.stderr)\n",
    "        print(\"can somehow be used to show the invariant\", file=sys.stderr)\n",
    "        print(\"the mass of the particle. [?]).\\n\", file=sys.stderr)\n",
    "        print(\"The details of the exception are:\", file=sys.stderr)\n",
    "        print(repr(ve), file=sys.stderr)\n",
    "        print(\"\\nNaN will be returned for the invariant mass.\\n\",\n",
    "              file=sys.stderr)\n",
    "        print(\"You might want to look at changing the\", file=sys.stderr)\n",
    "        print(\"do_avoid_imaginary parameter to True in\", file=sys.stderr)\n",
    "        print(\"the invariant_mass_from_values function.\\n\", file=sys.stderr)\n",
    "    finally:\n",
    "        pass\n",
    "    ##endof:  try/catch/finally\n",
    "    \n",
    "    if do_display_invariant_mass:\n",
    "        print(\"invariant_mass: \" + str(invariant_mass))\n",
    "    ##endof:  if do_display_invariant_mass\n",
    "    \n",
    "    return invariant_mass\n",
    "\n",
    "##endof:  def invariant_mass_from_values(<params>)"
   ]
  },
  {
   "cell_type": "markdown",
   "id": "79b05846",
   "metadata": {},
   "source": [
    "<hr/>"
   ]
  },
  {
   "cell_type": "code",
   "execution_count": 68,
   "id": "99b7d6c1",
   "metadata": {
    "scrolled": false
   },
   "outputs": [
    {
     "name": "stdout",
     "output_type": "stream",
     "text": [
      "\n",
      "##DEBUG 1##\n",
      "energy: 46.2967\n",
      "px: -45.4721\n",
      "py: -8.6101\n",
      "pz: -8.6101\n",
      "\n",
      "##DEBUG 2##\n",
      "e_squared_part: 2143.38443089\n",
      "norm_p_squared_part: 2215.97952243\n",
      "\n",
      "##DEBUG 3##\n",
      "e2_minus_p2: -72.59509153999988\n",
      "NOTE: The radicand had a negative value, so we're adjusting signs.\n",
      "\n",
      "##DEBUG 3##\n",
      "e2_minus_p2: -72.59509153999988\n",
      "invariant_mass: -8.52027532066892\n",
      "RESULTS:\n",
      "        E1      px1     py1      pz1  Invariant_Mass_1\n",
      "0  46.2967 -45.4721 -8.6101 -1.24072         -8.520275\n"
     ]
    }
   ],
   "source": [
    "do_display_first = False #  You can change this depending on the amount\n",
    "                         #+ of output you want.\n",
    "\n",
    "if do_display_first:\n",
    "    print(my_4e2011_df.iloc[1])\n",
    "##endof:  if do_display_first\n",
    "\n",
    "#  archived_ref=\"https://web.archive.org/web/\" + \\\n",
    "#+ \"20230318225210/https://stackoverflow.com/questions/\" + \\\n",
    "#+ \"12021754/how-to-slice-a-pandas-dataframe-by-position\"\n",
    "first_event_df = my_4e2011_df[:1]\n",
    "\n",
    "event_1_particle_1_df = \\\n",
    "  first_event_df.assign(\n",
    "            Invariant_Mass_1 = lambda x: \\\n",
    "               invariant_mass_from_values(x.E1,\n",
    "                                          x.px1,\n",
    "                                          x.py1,\n",
    "                                          x.pz1)\n",
    ") \n",
    "\n",
    "#event_1_particle_1_df.loc[:, ['E1', 'px1', 'py1', 'pz1', 'Invariant_Mass_1']]\n",
    "\n",
    "print(\"RESULTS:\\n\" + \\\n",
    "  str(event_1_particle_1_df.loc[:, ['E1', 'px1', 'py1', 'pz1', 'Invariant_Mass_1']])\n",
    ")"
   ]
  },
  {
   "cell_type": "code",
   "execution_count": 60,
   "id": "be352013",
   "metadata": {},
   "outputs": [
    {
     "name": "stdout",
     "output_type": "stream",
     "text": [
      "2143.38443089\n",
      "2143.3850865384\n",
      "-0.02560563219235628\n"
     ]
    }
   ],
   "source": [
    "wawa = 46.2967**2\n",
    "wuwu = ((-45.4721)**2 + (-8.6101)**2 + (-1.24072)**2)\n",
    "print(wawa)\n",
    "print(wuwu)\n",
    "wywy=-((wuwu-wawa)**(0.5))\n",
    "print(wywy)"
   ]
  },
  {
   "cell_type": "code",
   "execution_count": 64,
   "id": "957da720",
   "metadata": {},
   "outputs": [
    {
     "name": "stdout",
     "output_type": "stream",
     "text": [
      "NOTE: The radicand had a negative value, so we're adjusting signs.\n",
      "invariant_mass: -8.52027532066892\n"
     ]
    }
   ],
   "source": [
    "try_2_event_1_particle_1_df = \\\n",
    "  first_event_df.assign(\n",
    "            Invariant_Mass_1 = lambda x: \\\n",
    "               imfv2(x.E1, x.px1, x.py1, x.pz1))"
   ]
  },
  {
   "cell_type": "markdown",
   "id": "ffb8db6d",
   "metadata": {},
   "source": [
    "Looking for some insight on the problem of my calculated electron invariant masses being off.\n",
    "\n",
    "All I get from those previous commands are\n",
    "\n",
    "(from just `event_1_particle_1_df.loc[:, ['E1', 'px1', 'py1', 'pz1', 'Invariant_Mass_1']]`)\n",
    "\n",
    "|   |E1 |px1|py1|pz1|Invariant_Mass_1|\n",
    "|--:|--:|--:|--:|--:|---------------:|\n",
    "|**0**|46.2967|-45.4721|-8.6101|-1.24072|-8.520275|\n",
    "\n",
    "OR\n",
    "\n",
    "(from the `print` command)\n",
    "\n",
    "```\n",
    "        E1      px1     py1      pz1  Invariant_Mass_1\n",
    "0  46.2967 -45.4721 -8.6101 -1.24072         -8.520275\n",
    "```\n",
    "\n",
    "That shows our electron invariant mass to be -8.520275 (GeV). I can live with the invariant mass being negative. I think that means it's an antiparticle (positron, a.k.a. anti-electron, in this case). However, our invariant mass should, in that case, be -0.0005. (The invariant masses of the Z-bosons and the Higgs show up in GeV - natural units again - so I would expect that of the electron to do the same. I don't know how the invariant masses of the Z-bosons would be close to correct, but those of the electrons wouldn't be correct. The electrons are observed, so they shouldn't be off-mass-shell at all. I think I'll at least try with the other three particles. If they all seem weird, it will be off to Physics StackExchange."
   ]
  },
  {
   "cell_type": "markdown",
   "id": "9634fd81",
   "metadata": {},
   "source": [
    "<hr/>"
   ]
  },
  {
   "cell_type": "code",
   "execution_count": 46,
   "id": "8892d603",
   "metadata": {},
   "outputs": [
    {
     "name": "stdout",
     "output_type": "stream",
     "text": [
      "NOTE: The radicand had a negative value, so we're adjusting signs.\n",
      "invariant_mass: -8.52027532066892\n",
      "NOTE: The radicand had a negative value, so we're adjusting signs.\n",
      "invariant_mass: -14.340081099143065\n",
      "NOTE: The radicand had a negative value, so we're adjusting signs.\n",
      "invariant_mass: -14.73344795117559\n",
      "NOTE: The radicand had a negative value, so we're adjusting signs.\n",
      "invariant_mass: -6.978215136852907\n"
     ]
    }
   ],
   "source": [
    "first_event_df = my_4e2011_df[:1]\n",
    "\n",
    "event_1_particle_1_df = \\\n",
    "  first_event_df.assign(\n",
    "            Invariant_Mass_1 = lambda x: \\\n",
    "               invariant_mass_from_values(x.E1,\n",
    "                                          x.px1,\n",
    "                                          x.py1,\n",
    "                                          x.pz1)\n",
    ") \n",
    "\n",
    "e1p1 = event_1_particle_1_df.loc[:, ['E1', 'px1', 'py1', 'pz1', 'Invariant_Mass_1']]\n",
    "\n",
    "event_1_particle_2_df = \\\n",
    "  first_event_df.assign(\n",
    "            Invariant_Mass_2 = lambda x: \\\n",
    "               invariant_mass_from_values(x.E2,\n",
    "                                          x.px2,\n",
    "                                          x.py2,\n",
    "                                          x.pz2)\n",
    ")\n",
    "\n",
    "e1p2 = event_1_particle_2_df.loc[:, ['E2', 'px2', 'py2', 'pz2', 'Invariant_Mass_2']]\n",
    "\n",
    "event_1_particle_3_df = \\\n",
    "  first_event_df.assign(\n",
    "            Invariant_Mass_3 = lambda x: \\\n",
    "               invariant_mass_from_values(x.E3,\n",
    "                                          x.px3,\n",
    "                                          x.py3,\n",
    "                                          x.pz3)\n",
    ")\n",
    "\n",
    "e1p3 = event_1_particle_3_df.loc[:, ['E3', 'px3', 'py3', 'pz3', 'Invariant_Mass_3']]\n",
    "\n",
    "event_1_particle_4_df = \\\n",
    "  first_event_df.assign(\n",
    "            Invariant_Mass_4 = lambda x: \\\n",
    "               invariant_mass_from_values(x.E4,\n",
    "                                          x.px4,\n",
    "                                          x.py4,\n",
    "                                          x.pz4)\n",
    ")\n",
    "\n",
    "e1p4 = event_1_particle_4_df.loc[:, ['E4', 'px4', 'py4', 'pz4', 'Invariant_Mass_4']]\n",
    "\n",
    "#print(\"As an example: `type(e1p1)`: `\" + str(type(e1p1)) + \\\n",
    "#      \"`\\ngives OUTPUT `<class 'pandas.core.frame.DataFrame'>`\")"
   ]
  },
  {
   "cell_type": "code",
   "execution_count": 47,
   "id": "6ec6a1a7",
   "metadata": {},
   "outputs": [
    {
     "name": "stdout",
     "output_type": "stream",
     "text": [
      "        E1      px1     py1      pz1  Invariant_Mass_1\n",
      "0  46.2967 -45.4721 -8.6101 -1.24072         -8.520275\n",
      "-----\n",
      "        E2      px2      py2       pz2  Invariant_Mass_2\n",
      "0  45.8568  43.5367  14.3708 -0.940301        -14.340081\n",
      "-----\n",
      "        E3      px3      py3      pz3  Invariant_Mass_3\n",
      "0  27.2561 -13.6734 -19.6597  13.0164        -14.733448\n",
      "-----\n",
      "        E4       px4      py4      pz4  Invariant_Mass_4\n",
      "0  7.57191 -0.091305  7.28083 -2.07727         -6.978215\n"
     ]
    }
   ],
   "source": [
    "print(e1p1)\n",
    "print(\"-----\")\n",
    "print(e1p2)\n",
    "print(\"-----\")\n",
    "print(e1p3)\n",
    "print(\"-----\")\n",
    "print(e1p4)"
   ]
  },
  {
   "cell_type": "markdown",
   "id": "1e0ce995",
   "metadata": {},
   "source": [
    "Here's what the output comes out to be.\n",
    "\n",
    "```\n",
    "        E1      px1     py1      pz1  Invariant_Mass_1\n",
    "0  46.2967 -45.4721 -8.6101 -1.24072         -8.520275\n",
    "-----\n",
    "        E2      px2      py2       pz2  Invariant_Mass_2\n",
    "0  45.8568  43.5367  14.3708 -0.940301        -14.340081\n",
    "-----\n",
    "        E3      px3      py3      pz3  Invariant_Mass_3\n",
    "0  27.2561 -13.6734 -19.6597  13.0164        -14.733448\n",
    "-----\n",
    "        E4       px4      py4      pz4  Invariant_Mass_4\n",
    "0  7.57191 -0.091305  7.28083 -2.07727         -6.978215\n",
    "```\n",
    "\n",
    "(Well, apparently a negative sign on the invariant mass can't mean it's an antiparticle, or we just violated charge conservation and lepton number conservation and probably some other stuff as we consider the daughters of the Higgs.)\n",
    "\n",
    "They're all off, all the invariant mass numbers. Maybe the electron invariant mass is too small to be found from such an analysis. Maybe they're within the size of the error bars. More likely, there's something I'm missing or doing wrong somewhere. That's good. It means I'm learning stuff.\n",
    "\n",
    "I do wonder if particle 2 and particle 3 were from the same Z-boson, since whatever we calculated is close for those two. I don't know. I would imagine that they would put particles 1 and 2 as the ones from one $Z_0$, and particles 3 and 4 as those from the other. There's no _a priori_ reason to assume that, though."
   ]
  },
  {
   "cell_type": "markdown",
   "id": "c4780feb",
   "metadata": {},
   "source": [
    "<hr/>"
   ]
  },
  {
   "cell_type": "markdown",
   "id": "b9c74574",
   "metadata": {},
   "source": [
    "### The parent particle"
   ]
  },
  {
   "cell_type": "markdown",
   "id": "89d639e8",
   "metadata": {},
   "source": [
    "The general formula for invariant mass, $m_0$, for one particle in this case, is\n",
    "\n",
    "$m_0 = \\sqrt{E^2 - \\lvert \\textbf{p} \\rvert^2}$\n",
    "\n",
    "In a particle decay, the invariant mass of the the system of particle(s) stays the same - the invariant mass calculated using the energy and momentum of the daughter particles is equal to the invariant mass of the parent particle. However, we can't just find the equivalent mass for the first daughter particle, then the second daughter particle, etc. We need to look at them all together. This is shown in the general formula for the invariant mass of the system of daughter particles, usually notated as $W$, and which is equal to the invariant mass of the parent particle,\n",
    "\n",
    "$W = \\sqrt{ \\left( \\sum{E} \\right)^2 - \\left( \\lvert \\sum{\\textbf{p}} \\rvert \\right)^2}$\n",
    "\n",
    "Note that this, just like the general formula for invariant mass, is in natural units.\n",
    "\n",
    "The way vectors work makes this nice for us. We can write the equation using only the values in our list.\n",
    "\n",
    "$W = \\sqrt{\\left( \\sum_N{E} \\right)^2 - \\sum_N{ \\left[ (pxN)^2 + (pyN)^2 + (pzN)^2 \\right]}}$ with $N \\in \\{1, 2, 3, 4\\}$\n",
    "\n",
    "or, even more exhaustively,\n",
    "\n",
    "$W = \\sqrt{(} \\overline{ E1 + E2 + E3 + E4 )^2 - ... }$\n",
    "\n",
    "&nbsp;&nbsp;&nbsp;&nbsp;&nbsp;&nbsp;&nbsp;&nbsp;&nbsp;&nbsp;&nbsp;&nbsp;&nbsp;&nbsp;&nbsp;&nbsp;&nbsp; $\\overline{ ... {[} (px1)^2 + (px2)^2 + (px3)^2 + (px4)^2 + ... }$\n",
    "\n",
    "&nbsp;&nbsp;&nbsp;&nbsp;&nbsp;&nbsp;&nbsp;&nbsp;&nbsp;&nbsp;&nbsp;&nbsp;&nbsp;&nbsp;&nbsp;&nbsp;&nbsp;&nbsp;&nbsp;&nbsp;&nbsp;&nbsp;&nbsp;&nbsp;&nbsp; $\\overline{ ... (py1)^2 + (py2)^2 + (py3)^2 + (py4)^2 + ... }$\n",
    "\n",
    "&nbsp;&nbsp;&nbsp;&nbsp;&nbsp;&nbsp;&nbsp;&nbsp;&nbsp;&nbsp;&nbsp;&nbsp;&nbsp;&nbsp;&nbsp;&nbsp;&nbsp;&nbsp;&nbsp;&nbsp;&nbsp;&nbsp;&nbsp;&nbsp;&nbsp;&nbsp;&nbsp;&nbsp;&nbsp;&nbsp;&nbsp;&nbsp;&nbsp; $\\overline{ ... (pz1)^2 + (pz2)^2 + (pz3)^2 + (pz4)^2 ] }$ "
   ]
  },
  {
   "cell_type": "code",
   "execution_count": 31,
   "id": "82847ff9",
   "metadata": {},
   "outputs": [
    {
     "name": "stdout",
     "output_type": "stream",
     "text": [
      "          M           W\n",
      "0  125.5280  125.528108\n",
      "1  285.9600  285.960010\n",
      "2  186.9150  186.915162\n",
      "3  100.9230  100.922540\n",
      "4   95.4259   95.425992\n",
      "5  138.1930  138.193081\n",
      "6  363.5380  363.537956\n"
     ]
    }
   ],
   "source": [
    "#  Let's start by assuming that our E^2 part will be\n",
    "#+ larger than our |p|^2 part\n",
    "#+ ... the assumption seems borne out.\n",
    "\n",
    "checking_system_invariant_masses_df = \\\n",
    "  my_4e2011_df.assign(\n",
    "      W = lambda ev: (\n",
    "        ( ( (ev.E1 + ev.E2 + ev.E3 + ev.E4) ** 2) -\n",
    "          ( (ev.px1 + ev.px2 + ev.px3 + ev.px4) ** 2 +\n",
    "            (ev.py1 + ev.py2 + ev.py3 + ev.py4) ** 2 +\n",
    "            (ev.pz1 + ev.pz2 + ev.pz3 + ev.pz4) ** 2  )\n",
    "        ) ** 0.5 \n",
    "   )\n",
    ")\n",
    "\n",
    "events_inv_masses = checking_system_invariant_masses_df.loc[:, ['M', 'W']]\n",
    "\n",
    "print(events_inv_masses)"
   ]
  },
  {
   "cell_type": "markdown",
   "id": "e6cf828b",
   "metadata": {},
   "source": [
    "The results match wonderfully to within rounding error. Here is the output.\n",
    "\n",
    "```\n",
    "          M           W\n",
    "0  125.5280  125.528108\n",
    "1  285.9600  285.960010\n",
    "2  186.9150  186.915162\n",
    "3  100.9230  100.922540\n",
    "4   95.4259   95.425992\n",
    "5  138.1930  138.193081\n",
    "6  363.5380  363.537956\n",
    "```"
   ]
  },
  {
   "cell_type": "markdown",
   "id": "5763b7a6",
   "metadata": {},
   "source": [
    "I'll check one more thing. I'll send the values through my function. My function was made for values, though, so I'm going to have to deal with it. I'm not sure how to do so given the fact that `Series` objects get passed to my function. I think it has to do with the fact that I'm sending different column values into my lambda-ed function, rather than just all the values. [This](https://stackoverflow.com/a/55190150/6505499) ([archived](https://web.archive.org/web/20230321215636/https://stackoverflow.com/questions/20829748/pandas-assigning-multiple-new-columns-simultaneously)) or [that](https://stackoverflow.com/a/43668425/6505499) ([archived](https://web.archive.org/web/20230321220603/https://stackoverflow.com/questions/43667934/add-multiple-calculated-columns-to-a-pandas-dataframe-at-once))might hold some answers."
   ]
  },
  {
   "cell_type": "code",
   "execution_count": 50,
   "id": "1a95fcab",
   "metadata": {},
   "outputs": [],
   "source": [
    "do_this_method_and_see_errors = False\n",
    "if do_this_method_and_see_errors:\n",
    "    check_system_invariant_masses_func_df = \\\n",
    "    my_4e2011_df.assign(\n",
    "          W = lambda ev:\n",
    "              ( invariant_mass_from_values(\n",
    "                  energy=(ev.E1 + ev.E2 + ev.E3 + ev.E4),\n",
    "                  px=(ev.px1 + ev.px2 + ev.px3 + ev.px4),\n",
    "                  py=(ev.py1 + ev.py2 + ev.py3 + ev.py4),\n",
    "                  pz=(ev.pz1 + ev.pz2 + ev.pz3 + ev.pz4))\n",
    "              ), axis=1\n",
    "    )##endof:  my_4e2011_df.assign\n",
    "    \n",
    "    events_inv_masses_func = \\\n",
    "      check_system_invariant_masses_func_df.loc[:, ['M', 'W']]\n",
    "\n",
    "    print(\"RESULTS\")\n",
    "    print(events_inv_masses_func)\n",
    "##endof:  if do_this_method_and_see_errors"
   ]
  },
  {
   "cell_type": "markdown",
   "id": "5db016eb",
   "metadata": {},
   "source": [
    "The only way I can think of to pass the values to my function is to iterate over the rows. That could cause a firestorm, such as the one seen [here](https://web.archive.org/web/20230321202813/https://stackoverflow.com/questions/16476924/how-to-iterate-over-rows-in-a-dataframe-in-pandas). I do want to look deeper into Pandas to figure that out, but that's not what I'm trying to figure out, now."
   ]
  },
  {
   "cell_type": "code",
   "execution_count": 49,
   "id": "c3924a47",
   "metadata": {},
   "outputs": [
    {
     "name": "stdout",
     "output_type": "stream",
     "text": [
      "125.528 125.6591033027505 -0.1311033027504891\n",
      "285.96 673.8486296031871 -387.8886296031871\n",
      "186.915 197.14048963166832 -10.225489631668324\n",
      "100.923 161.01746813448972 -60.094468134489716\n",
      "95.4259 155.9105773183437 -60.484677318343714\n",
      "138.193 148.9299069063654 -10.736906906365391\n",
      "363.538 414.52724145289164 -50.98924145289163\n"
     ]
    }
   ],
   "source": [
    "for index, row in my_4e2011_df.iterrows():\n",
    "    total_E  = row.E1  + row.E2  + row.E3  + row.E4\n",
    "    total_px = row.px1 + row.px2 + row.px3 + row.px4\n",
    "    total_py = row.py1 + row.py2 + row.py3 + row.py4\n",
    "    total_pz = row.pz1 + row.pz2 + row.pz3 + row.pz4\n",
    "    \n",
    "    my_W = invariant_mass_from_values(total_E, \n",
    "                                      total_px, \n",
    "                                      total_py, \n",
    "                                      total_pz,\n",
    "                                      do_display_invariant_mass=False)\n",
    "    my_M = row.M\n",
    "    \n",
    "    print(str(my_M), str(my_W), str(my_M-my_W))\n",
    "##endof:  for"
   ]
  },
  {
   "cell_type": "markdown",
   "id": "b8fe789a",
   "metadata": {},
   "source": [
    "The result was\n",
    "\n",
    "```\n",
    "125.528 125.6591033027505 -0.1311033027504891\n",
    "285.96 673.8486296031871 -387.8886296031871\n",
    "186.915 197.14048963166832 -10.225489631668324\n",
    "100.923 161.01746813448972 -60.094468134489716\n",
    "95.4259 155.9105773183437 -60.484677318343714\n",
    "138.193 148.9299069063654 -10.736906906365391\n",
    "363.538 414.52724145289164 -50.98924145289163\n",
    "```\n",
    "\n",
    "There's a problem with the function."
   ]
  },
  {
   "cell_type": "markdown",
   "id": "1c687f4c",
   "metadata": {},
   "source": []
  },
  {
   "cell_type": "markdown",
   "id": "ee29a954",
   "metadata": {},
   "source": [
    "<hr/>"
   ]
  },
  {
   "cell_type": "markdown",
   "id": "059a03a8",
   "metadata": {},
   "source": [
    "\n",
    "## Line Counting Discussion\n",
    "\n",
    "### We could call it Appendix B\n",
    "\n",
    "I think the best discussion of the most optimized line-counting algorithm is at\n",
    "\n",
    "```\n",
    "lc_ref_1=\"https://stackoverflow.com/questions/845058/\" + \\\n",
    "\"how-to-get-line-count-of-a-large-file-cheaply-in-python/27518377#27518377\"\n",
    "archived_lc_ref_1=\"https://web.archive.org/web/20230316221423/\" + \\\n",
    "\"https://stackoverflow.com/questions/845058/\" + \\\n",
    "\"how-to-get-line-count-of-a-large-file-cheaply-in-python/27518377#27518377\"\n",
    "```\n",
    "\n",
    "Look for the answer from @Michael_Bacon, then you can read the answer by @Ryan_Ginstrom to give some background. I would go straight to the archived version if you're searching for those answers - that's why I archived it.\n",
    "\n",
    "The answer by adds generator/buffer solutions, not discussed by @Ryan_Ginstrom, but one of which is also discussed in another good source,\n",
    "\n",
    "```\n",
    "lc_ref_2=\"https://pynative.com/python-count-number-of-lines-in-file/\"\n",
    "archived_lc_ref_2=\"https://web.archive.org/web/20230316215432/\" + \\\n",
    "\"https://pynative.com/python-count-number-of-lines-in-file/\"\n",
    "```\n",
    "\n",
    "There's also a decent discussion from geeksforgeeks, which includes some Big Oh discussion, but it's not as comprehensive as the other two and doesn't discuss the generator stuff.\n",
    "\n",
    "```\n",
    "lc_ref_3=\"https://www.geeksforgeeks.org/count-number-of-lines-\" + \\\n",
    "\"in-a-text-file-in-python/\"\n",
    "archived_anchor_ref=\"https://web.archive.org/web/20230306171715/\" + \\\n",
    "\"https://www.geeksforgeeks.org/count-number-of-lines-\" + \\\n",
    "\"in-a-text-file-in-python/\"\n",
    "```"
   ]
  },
  {
   "cell_type": "markdown",
   "id": "d31c9b3a",
   "metadata": {},
   "source": [
    "<hr/>"
   ]
  },
  {
   "cell_type": "markdown",
   "id": "6790a27c",
   "metadata": {},
   "source": [
    "## More Dataframe Info\n",
    "\n",
    "### We could call it Appendix C"
   ]
  },
  {
   "cell_type": "code",
   "execution_count": null,
   "id": "a6580684",
   "metadata": {},
   "outputs": [],
   "source": [
    "my_4e2011_df.info()"
   ]
  },
  {
   "cell_type": "markdown",
   "id": "517a74d5",
   "metadata": {},
   "source": [
    "The output was\n",
    "\n",
    "```\n",
    "<class 'pandas.core.frame.DataFrame'>\n",
    "RangeIndex: 7 entries, 0 to 6\n",
    "Data columns (total 41 columns):\n",
    " #   Column  Non-Null Count  Dtype  \n",
    "---  ------  --------------  -----  \n",
    " 0   Run     7 non-null      int64  \n",
    " 1   Event   7 non-null      int64  \n",
    " 2   PID1    7 non-null      int64  \n",
    " 3   E1      7 non-null      float64\n",
    " 4   px1     7 non-null      float64\n",
    " 5   py1     7 non-null      float64\n",
    " 6   pz1     7 non-null      float64\n",
    " 7   pt1     7 non-null      float64\n",
    " 8   eta1    7 non-null      float64\n",
    " 9   phi1    7 non-null      float64\n",
    " 10  Q1      7 non-null      int64  \n",
    " 11  PID2    7 non-null      int64  \n",
    " 12  E2      7 non-null      float64\n",
    " 13  px2     7 non-null      float64\n",
    " 14  py2     7 non-null      float64\n",
    " 15  pz2     7 non-null      float64\n",
    " 16  pt2     7 non-null      float64\n",
    " 17  eta2    7 non-null      float64\n",
    " 18  phi2    7 non-null      float64\n",
    " 19  Q2      7 non-null      int64  \n",
    " 20  PID3    7 non-null      int64  \n",
    " 21  E3      7 non-null      float64\n",
    " 22  px3     7 non-null      float64\n",
    " 23  py3     7 non-null      float64\n",
    " 24  pz3     7 non-null      float64\n",
    " 25  pt3     7 non-null      float64\n",
    " 26  eta3    7 non-null      float64\n",
    " 27  phi3    7 non-null      float64\n",
    " 28  Q3      7 non-null      int64  \n",
    " 29  PID4    7 non-null      int64  \n",
    " 30  E4      7 non-null      float64\n",
    " 31  px4     7 non-null      float64\n",
    " 32  py4     7 non-null      float64\n",
    " 33  pz4     7 non-null      float64\n",
    " 34  pt4     7 non-null      float64\n",
    " 35  eta4    7 non-null      float64\n",
    " 36  phi4    7 non-null      float64\n",
    " 37  Q4      7 non-null      int64  \n",
    " 38  mZ1     7 non-null      float64\n",
    " 39  mZ2     7 non-null      float64\n",
    " 40  M       7 non-null      float64\n",
    "dtypes: float64(31), int64(10)\n",
    "memory usage: 2.4 KB\n",
    "```"
   ]
  }
 ],
 "metadata": {
  "kernelspec": {
   "display_name": "Python 3 (ipykernel)",
   "language": "python",
   "name": "python3"
  },
  "language_info": {
   "codemirror_mode": {
    "name": "ipython",
    "version": 3
   },
   "file_extension": ".py",
   "mimetype": "text/x-python",
   "name": "python",
   "nbconvert_exporter": "python",
   "pygments_lexer": "ipython3",
   "version": "3.10.9"
  }
 },
 "nbformat": 4,
 "nbformat_minor": 5
}
